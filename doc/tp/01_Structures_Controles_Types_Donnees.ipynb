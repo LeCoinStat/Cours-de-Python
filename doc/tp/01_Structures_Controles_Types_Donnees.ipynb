{
 "cells": [
  {
   "cell_type": "markdown",
   "id": "49db2730",
   "metadata": {},
   "source": [
    "# Structures de contrôle"
   ]
  },
  {
   "cell_type": "markdown",
   "id": "4aa2d828",
   "metadata": {},
   "source": [
    "## **If**: Comment prendre des décisions dans vos programmes"
   ]
  },
  {
   "cell_type": "markdown",
   "id": "2db9b115",
   "metadata": {},
   "source": [
    "La structure conditionnelle `if` permet d'exécuter un bloc de code seulement si une condition donnée est vraie. C'est une des bases de la logique en programmation.\n",
    "\n",
    "## Syntaxe de base\n",
    "\n",
    "La syntaxe d'une condition `if` en Python est :\n",
    "\n",
    "```python\n",
    "if condition:\n",
    "    # Code à exécuter si la condition est vraie\n",
    "```"
   ]
  },
  {
   "cell_type": "markdown",
   "id": "93603a19",
   "metadata": {},
   "source": [
    "- **`condition`** : Une expression qui sera évaluée comme `True` ou `False`.\n",
    "- **Indentation** : Le code à exécuter doit être indenté (en général 4 espaces)."
   ]
  },
  {
   "cell_type": "code",
   "execution_count": 5,
   "id": "f5c88d15",
   "metadata": {},
   "outputs": [],
   "source": [
    "# écrire un code qui affiche \"Il fait chaud\" si la température est supérieure ou égale à 25°C.\n",
    "temperature = 30\n"
   ]
  },
  {
   "cell_type": "markdown",
   "id": "a83a55ae",
   "metadata": {},
   "source": [
    "## Décision avec alternative (`else`)\n",
    "\n",
    "La structure conditionnelle `if-else` permet d'exécuter un bloc de code si une condition est vraie, et un autre bloc si cette condition est fausse. C'est une manière d'assurer que l'un des deux blocs de code sera exécuté.\n",
    "\n",
    "**Syntaxe de base**\n",
    "\n",
    "La syntaxe d'une structure `if-else` en Python est la suivante :\n",
    "\n",
    "```python\n",
    "if condition:\n",
    "    # Code à exécuter si la condition est vraie\n",
    "else:\n",
    "    # Code à exécuter si la condition est fausse\n",
    "```\n",
    "\n",
    "- **`condition`** : Une expression qui sera évaluée comme `True` ou `False`.\n",
    "- **`else`** : Ce bloc est exécuté uniquement si la condition est fausse.\n",
    "- **Indentation** : Le code sous chaque bloc doit être correctement indenté."
   ]
  },
  {
   "cell_type": "code",
   "execution_count": 6,
   "id": "2edae368",
   "metadata": {},
   "outputs": [
    {
     "data": {
      "text/plain": [
       "' \\n    Écrivez un code qui :\\n    - Affiche \"Il fait chaud\" si la température est supérieure ou égale à 25°C.\\n    - Affiche \"Il fait frais\" sinon.\\n'"
      ]
     },
     "execution_count": 6,
     "metadata": {},
     "output_type": "execute_result"
    }
   ],
   "source": [
    "\"\"\" \n",
    "    Écrivez un code qui :\n",
    "    - Affiche \"Il fait chaud\" si la température est supérieure ou égale à 25°C.\n",
    "    - Affiche \"Il fait frais\" sinon.\n",
    "\"\"\""
   ]
  },
  {
   "cell_type": "markdown",
   "id": "8a8d08e8",
   "metadata": {},
   "source": [
    "## Décision avec multiples alternatives (`elif`)\n",
    "\n",
    "La structure conditionnelle `if-elif-else` permet d'évaluer plusieurs conditions de manière séquentielle. Elle est utilisée lorsque vous devez gérer plusieurs cas possibles.\n",
    "\n",
    "**Syntaxe de base**\n",
    "\n",
    "La syntaxe d'une structure `if-elif-else` en Python est la suivante :\n",
    "\n",
    "```python\n",
    "if condition1:\n",
    "    # Code à exécuter si condition1 est vraie\n",
    "elif condition2:\n",
    "    # Code à exécuter si condition2 est vraie\n",
    "else:\n",
    "    # Code à exécuter si aucune condition n'est vraie\n",
    "```\n",
    "\n",
    "- **`elif`** : Abréviation de \"else if\", utilisée pour ajouter une condition supplémentaire.\n",
    "- **`else`** : Optionnel, exécuté seulement si aucune des conditions précédentes n'est vraie.\n",
    "- **Indentation** : Le code sous chaque bloc doit être correctement indenté.\n"
   ]
  },
  {
   "cell_type": "code",
   "execution_count": 7,
   "id": "fc15f669",
   "metadata": {},
   "outputs": [
    {
     "data": {
      "text/plain": [
       "' \\n    Écrivez un code qui :\\n    - Définit une variable `age`.\\n    - Affiche \"Enfant\" si `age` est inférieur à 12 ans.\\n    - Affiche \"Adolescent\" si `age` est compris entre 12 et 17 ans (inclus).\\n    - Affiche \"Adulte\" si `age` est de 18 ans ou plus.\\n\\n'"
      ]
     },
     "execution_count": 7,
     "metadata": {},
     "output_type": "execute_result"
    }
   ],
   "source": [
    "# Décision avec multiples alternatives (Elif) \n",
    "\n",
    "\"\"\" \n",
    "    Écrivez un code qui :\n",
    "    - Définit une variable `age`.\n",
    "    - Affiche \"Enfant\" si `age` est inférieur à 12 ans.\n",
    "    - Affiche \"Adolescent\" si `age` est compris entre 12 et 17 ans (inclus).\n",
    "    - Affiche \"Adulte\" si `age` est de 18 ans ou plus.\n",
    "\n",
    "\"\"\""
   ]
  },
  {
   "cell_type": "markdown",
   "id": "b92b899c",
   "metadata": {},
   "source": [
    "# Conditions avec multiples conditions\n",
    "\n",
    "En Python, vous pouvez combiner plusieurs conditions dans une seule instruction en utilisant les opérateurs logiques `and`, `or` et `not`. Cela permet de tester plusieurs conditions en même temps.\n",
    "\n",
    "## Syntaxe de base\n",
    "\n",
    "La syntaxe pour combiner des conditions est :\n",
    "\n",
    "```python\n",
    "if condition1 and condition2:\n",
    "    # Code à exécuter si les deux conditions sont vraies\n",
    "elif condition1 or condition2:\n",
    "    # Code à exécuter si au moins une des conditions est vraie\n",
    "else:\n",
    "    # Code à exécuter si aucune des conditions n'est vraie\n",
    "```\n",
    "\n",
    "- **`and`** : Les deux conditions doivent être vraies.\n",
    "- **`or`** : Au moins une des conditions doit être vraie.\n",
    "- **`not`** : Inverse la valeur de la condition."
   ]
  },
  {
   "cell_type": "code",
   "execution_count": 8,
   "id": "a528eebb",
   "metadata": {},
   "outputs": [
    {
     "data": {
      "text/plain": [
       "'\\n    Écrivez un code qui :\\n    - Définit trois variables : `note_math`, `note_science` et `note_français`.\\n    - Affiche \"Excellent\" si toutes les notes sont supérieures ou égales à 15.\\n    - Affiche \"Passable\" si au moins une des notes est supérieure ou égale à 10.\\n    - Affiche \"Insuffisant\" dans tous les autres cas.\\n\\n    **Instructions :**\\n    1. Définissez les trois variables avec des valeurs.\\n    2. Utilisez des opérateurs logiques pour écrire les conditions.\\n'"
      ]
     },
     "execution_count": 8,
     "metadata": {},
     "output_type": "execute_result"
    }
   ],
   "source": [
    "\"\"\"\n",
    "    Écrivez un code qui :\n",
    "    - Définit trois variables : `note_math`, `note_science` et `note_français`.\n",
    "    - Affiche \"Excellent\" si toutes les notes sont supérieures ou égales à 15.\n",
    "    - Affiche \"Passable\" si au moins une des notes est supérieure ou égale à 10.\n",
    "    - Affiche \"Insuffisant\" dans tous les autres cas.\n",
    "\n",
    "    **Instructions :**\n",
    "    1. Définissez les trois variables avec des valeurs.\n",
    "    2. Utilisez des opérateurs logiques pour écrire les conditions.\n",
    "\"\"\""
   ]
  },
  {
   "cell_type": "markdown",
   "id": "3b0c685f",
   "metadata": {},
   "source": [
    "### Exercice"
   ]
  },
  {
   "cell_type": "markdown",
   "id": "a4609b0d",
   "metadata": {},
   "source": [
    "**Objectif :** \n",
    "Développer une fonction `classer_age` en Python qui détermine la catégorie d'âge d'une personne à partir de son âge.\n",
    "\n",
    "**Instructions :**\n",
    "1. La fonction `classer_age` doit accepter un seul argument numérique, `age`, qui représente l'âge de la personne en années.\n",
    "2. La fonction doit retourner une chaîne de caractères selon l'âge :\n",
    "   - Retourner `\"Enfant\"` si l'âge est inférieur à 12 ans.\n",
    "   - Retourner `\"Adolescent\"` si l'âge est entre 12 et 17 ans inclus.\n",
    "   - Retourner `\"Adulte\"` si l'âge est entre 18 et 59 ans inclus.\n",
    "   - Retourner `\"Senior\"` si l'âge est de 60 ans ou plus.\n",
    "3. Si l'âge est inférieur à 0 ou n'est pas un nombre valide, la fonction doit retourner `\"Âge invalide\"`.\n"
   ]
  },
  {
   "cell_type": "code",
   "execution_count": null,
   "id": "1af52eeb",
   "metadata": {},
   "outputs": [],
   "source": []
  },
  {
   "cell_type": "markdown",
   "id": "9f6e19f6",
   "metadata": {},
   "source": [
    "\n",
    "## **For**: Techniques pour parcourir des données séquentielles\n",
    "\n",
    "La boucle `for` en Python est utilisée pour parcourir des données séquentielles comme les listes, tuples, chaînes de caractères, ou encore des objets itérables. Elle permet d'exécuter un bloc de code pour chaque élément d'une séquence.\n",
    "\n",
    "### Syntaxe de base\n",
    "\n",
    "```python\n",
    "for element in sequence:\n",
    "    # Code à exécuter pour chaque élément\n",
    "```\n",
    "\n",
    "- **`element`** : Une variable temporaire qui prend la valeur de chaque élément de la séquence.\n",
    "- **`sequence`** : Une structure de données itérable (liste, tuple, chaîne, etc.)."
   ]
  },
  {
   "cell_type": "code",
   "execution_count": 9,
   "id": "2dacf38b",
   "metadata": {},
   "outputs": [],
   "source": [
    "fruits = [\"pomme\", \"banane\", \"cerise\", \"mangue\"]\n",
    "\n",
    "# Parcourez la chaîne `\"Python\"` avec une boucle `for` et affichez chaque caractère sur une ligne séparée."
   ]
  },
  {
   "cell_type": "code",
   "execution_count": 10,
   "id": "01db0e16",
   "metadata": {},
   "outputs": [],
   "source": [
    "#Écrivez un code qui affiche les nombres de 1 à 10  à l'aide d'une boucle for (astuce fonction range en python).\n",
    "\n"
   ]
  },
  {
   "cell_type": "markdown",
   "id": "5ae48182",
   "metadata": {},
   "source": []
  },
  {
   "cell_type": "code",
   "execution_count": 11,
   "id": "9fda2ef4",
   "metadata": {},
   "outputs": [],
   "source": [
    "# Écrivez un code qui utilise une boucle for pour afficher les nombres de 1 à 10 , en précisant pour chaque nombre s'il est pair ou impair."
   ]
  },
  {
   "cell_type": "markdown",
   "id": "29507185",
   "metadata": {},
   "source": [
    "## While: Exécuter des instructions de manière répétitive sous certaines conditions"
   ]
  },
  {
   "cell_type": "markdown",
   "id": "01d19674",
   "metadata": {},
   "source": [
    "La boucle `while` en Python permet d'exécuter un bloc de code tant qu'une condition donnée est vraie. Elle est utile lorsque le nombre d'itérations n'est pas connu à l'avance.\n",
    "\n",
    "### Syntaxe de base\n",
    "\n",
    "```python\n",
    "while condition:\n",
    "    # Code à exécuter tant que la condition est vraie\n",
    "```\n",
    "\n",
    "- **`condition`** : Une expression qui sera évaluée comme `True` ou `False` à chaque itération.\n",
    "- La boucle s'arrête dès que la condition devient `False`."
   ]
  },
  {
   "cell_type": "code",
   "execution_count": 12,
   "id": "7c93d734",
   "metadata": {},
   "outputs": [],
   "source": [
    "# Écrivez un programme utilisant une boucle `while` pour afficher les nombres de 1 à 10."
   ]
  },
  {
   "cell_type": "markdown",
   "id": "bbaf1dc2",
   "metadata": {},
   "source": [
    "### Utilisation de `break` et `continue` dans une boucle `while`\n",
    "\n",
    "- **`break`** : Permet de sortir immédiatement de la boucle, même si la condition est toujours vraie.\n",
    "- **`continue`** : Permet de sauter le reste du code de la boucle pour passer directement à l'itération suivante."
   ]
  },
  {
   "cell_type": "code",
   "execution_count": 13,
   "id": "409c3719",
   "metadata": {},
   "outputs": [],
   "source": [
    "# Écrivez un programme utilisant `while` et `break` pour arrêter la boucle si un nombre atteint 7."
   ]
  },
  {
   "cell_type": "code",
   "execution_count": 14,
   "id": "e63408eb",
   "metadata": {},
   "outputs": [],
   "source": [
    "# Utilisez une boucle `while` et `continue` pour afficher les nombres de 1 à 20, en sautant les multiples de 3."
   ]
  }
 ],
 "metadata": {
  "kernelspec": {
   "display_name": "Python 3 (ipykernel)",
   "language": "python",
   "name": "python3"
  },
  "language_info": {
   "codemirror_mode": {
    "name": "ipython",
    "version": 3
   },
   "file_extension": ".py",
   "mimetype": "text/x-python",
   "name": "python",
   "nbconvert_exporter": "python",
   "pygments_lexer": "ipython3",
   "version": "3.12.6"
  }
 },
 "nbformat": 4,
 "nbformat_minor": 5
}
