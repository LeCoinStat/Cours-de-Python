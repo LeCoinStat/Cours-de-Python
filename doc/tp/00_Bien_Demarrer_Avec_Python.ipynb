{
 "cells": [
  {
   "cell_type": "markdown",
   "id": "b2afbce4",
   "metadata": {},
   "source": [
    "# Ceci est un titre de niveau 1"
   ]
  },
  {
   "cell_type": "markdown",
   "id": "3e10a998",
   "metadata": {},
   "source": [
    "## Ceci est un titre de niveau 2"
   ]
  },
  {
   "cell_type": "markdown",
   "id": "edc99a29",
   "metadata": {},
   "source": [
    "# Les bases de Python"
   ]
  },
  {
   "cell_type": "markdown",
   "id": "1d749bdf",
   "metadata": {},
   "source": [
    "## Syntaxe de Base:\n",
    "\n",
    "- Comment écrire un code propre et lisible en Python.\n",
    "- Commentaires \n"
   ]
  },
  {
   "cell_type": "code",
   "execution_count": 32,
   "id": "ed9ac722",
   "metadata": {},
   "outputs": [
    {
     "name": "stdout",
     "output_type": "stream",
     "text": [
      "test\n"
     ]
    }
   ],
   "source": [
    "# Ceci est un commentaire\n",
    "print(\"test\")"
   ]
  },
  {
   "cell_type": "code",
   "execution_count": 33,
   "id": "a7b1571f",
   "metadata": {},
   "outputs": [
    {
     "name": "stdout",
     "output_type": "stream",
     "text": [
      "test\n"
     ]
    }
   ],
   "source": [
    "\"\"\"\n",
    "Ceci est un commentaire \n",
    "sur plusieurs lignes\n",
    "\n",
    "\"\"\"\n",
    "print(\"test\")"
   ]
  },
  {
   "cell_type": "markdown",
   "id": "09f03a43",
   "metadata": {},
   "source": [
    "\n",
    "\n",
    "## Déclaration et Utilisation des Variables:\n",
    "\n",
    "- **Nommage**: Les noms de variables doivent commencer par une lettre ou un underscore.\n",
    "- **Assignation de Valeurs**: Utilisez le signe `=` pour assigner une valeur à une variable.\n",
    "- **Utilisation dans les Opérations**: Les variables peuvent être utilisées dans des opérations mathématiques ou logiques.\n",
    "- **Création de plusieurs Variables simultanément**\n"
   ]
  },
  {
   "cell_type": "code",
   "execution_count": 34,
   "id": "4d3a4fe6",
   "metadata": {},
   "outputs": [],
   "source": [
    "# Creez une variable qui va contenir un nom\n"
   ]
  },
  {
   "cell_type": "code",
   "execution_count": 35,
   "id": "cd9b27e2",
   "metadata": {},
   "outputs": [],
   "source": [
    "# Creez une variable qui va contenir un age"
   ]
  },
  {
   "cell_type": "code",
   "execution_count": 36,
   "id": "554be25b",
   "metadata": {},
   "outputs": [],
   "source": [
    "# Creez une variable qui va contenir une taille"
   ]
  },
  {
   "cell_type": "markdown",
   "id": "6aa1f2bd",
   "metadata": {},
   "source": [
    "\n",
    "## Différents Types de Données\n",
    "\n",
    "- **Types Intégrés**: Utilisez `int`, `float`, `str`, et `list` pour représenter différents types de données.\n",
    "- **Vérification de Type**: La fonction `type()` permet de vérifier le type d'une variable.\n",
    "- **Opérations de Base**: Effectuez des opérations comme l'addition de `int`, ou la concaténation de `str`.\n"
   ]
  },
  {
   "cell_type": "markdown",
   "id": "baf70b81",
   "metadata": {},
   "source": [
    "| Type   | Description                  |\n",
    "|--------|------------------------------|\n",
    "| `str`  | Chaîne de caractères         |\n",
    "| `int`  | Nombres entiers              |\n",
    "| `float`| Nombres décimaux             |\n",
    "| `bool` | Valeurs logiques (True/False)|"
   ]
  },
  {
   "cell_type": "code",
   "execution_count": 37,
   "id": "89a0f9ef",
   "metadata": {},
   "outputs": [],
   "source": [
    "# Déterminez le type de la variable nom"
   ]
  },
  {
   "cell_type": "code",
   "execution_count": 38,
   "id": "9ed70427",
   "metadata": {},
   "outputs": [],
   "source": [
    "# Déterminez le type de la variable age"
   ]
  },
  {
   "cell_type": "code",
   "execution_count": 39,
   "id": "2813073f",
   "metadata": {},
   "outputs": [],
   "source": [
    "# Déterminez le type de la variable taille"
   ]
  },
  {
   "cell_type": "code",
   "execution_count": 40,
   "id": "feeba192",
   "metadata": {},
   "outputs": [],
   "source": [
    "# Créer une variable booléenne qui va contenir True et déterminez son type"
   ]
  },
  {
   "cell_type": "markdown",
   "id": "65380373",
   "metadata": {},
   "source": [
    "# Affichage des éléments en python"
   ]
  },
  {
   "cell_type": "markdown",
   "id": "18dcc6d9",
   "metadata": {},
   "source": [
    "#### Afficher une variable\n",
    "\n",
    "Déclarez une variable contenant votre nom et utilisez `print()` pour l'afficher dans la console.\n",
    "\n"
   ]
  },
  {
   "cell_type": "code",
   "execution_count": 41,
   "id": "d654f545",
   "metadata": {},
   "outputs": [],
   "source": [
    "# Déclarez une variable contenant votre nom et utilisez `print()` pour l'afficher dans la console."
   ]
  },
  {
   "cell_type": "markdown",
   "id": "0055bcd1",
   "metadata": {},
   "source": [
    "####  Afficher plusieurs éléments"
   ]
  },
  {
   "cell_type": "code",
   "execution_count": 42,
   "id": "8324b89f",
   "metadata": {},
   "outputs": [
    {
     "data": {
      "text/plain": [
       "'\\n    Utilisez `print()` pour afficher les éléments suivants sur une seule ligne, séparés par des espaces :\\n\\n    - Une chaîne de caractères (par exemple : `Bonjour`)\\n    - Un nombre entier (par exemple : `2025`)\\n    - Un nombre décimal (par exemple : `3.14`)\\n'"
      ]
     },
     "execution_count": 42,
     "metadata": {},
     "output_type": "execute_result"
    }
   ],
   "source": [
    "\"\"\"\n",
    "    Utilisez `print()` pour afficher les éléments suivants sur une seule ligne, séparés par des espaces :\n",
    "\n",
    "    - Une chaîne de caractères (par exemple : `Bonjour`)\n",
    "    - Un nombre entier (par exemple : `2025`)\n",
    "    - Un nombre décimal (par exemple : `3.14`)\n",
    "\"\"\"\n"
   ]
  },
  {
   "cell_type": "markdown",
   "id": "0917ff09",
   "metadata": {},
   "source": [
    "####  Utiliser la concaténation\n"
   ]
  },
  {
   "cell_type": "code",
   "execution_count": 43,
   "id": "54848484",
   "metadata": {},
   "outputs": [],
   "source": [
    "# Déclarez une variable contenant votre prénom et affichez un message complet en combinant des chaînes de caractères à l'aide de l'opérateur `+`.\n",
    "\n",
    "# **Exemple attendu :**\n",
    "# `Bonjour, je m'appelle Alice.`"
   ]
  },
  {
   "cell_type": "markdown",
   "id": "11ff47d6",
   "metadata": {},
   "source": [
    "####  Utiliser la méthode format()\n",
    "\n",
    "La méthode `format()` est une technique puissante et flexible pour formater des chaînes de caractères en Python. Elle permet d'insérer des variables ou des expressions dans une chaîne en utilisant des espaces réservés.\n",
    "\n",
    "##### Pourquoi utiliser `format()` ?\n",
    "\n",
    "- **Lisibilité** : Le code est plus clair et structuré qu'en utilisant des concaténations avec `+`.\n",
    "- **Flexibilité** : Permet d'insérer des variables dans des positions spécifiques et de personnaliser l'affichage (par exemple, arrondi des nombres).\n",
    "- **Compatibilité** : Fonctionne avec toutes les versions de Python 3.\n",
    "\n",
    "####  Syntaxe de base\n",
    "\n",
    "La syntaxe de la méthode `format()` est simple :\n",
    "\n",
    "```python\n",
    "\"texte avec {} espaces réservés\".format(valeur1, valeur2, ...)\n",
    "```"
   ]
  },
  {
   "cell_type": "code",
   "execution_count": 44,
   "id": "ef5bcfc0",
   "metadata": {},
   "outputs": [
    {
     "data": {
      "text/plain": [
       "\"\\n    Reprenez l'exercice précédent en utilisant la méthode `.format()` pour insérer les variables dans la chaîne.\\n\\n    **Exemple attendu :**\\n    `Bonjour, je m'appelle Alice et j'ai 25 ans.`\\n\""
      ]
     },
     "execution_count": 44,
     "metadata": {},
     "output_type": "execute_result"
    }
   ],
   "source": [
    "\"\"\"\n",
    "    Reprenez l'exercice précédent en utilisant la méthode `.format()` pour insérer les variables dans la chaîne.\n",
    "\n",
    "    **Exemple attendu :**\n",
    "    `Bonjour, je m'appelle Alice et j'ai 25 ans.`\n",
    "\"\"\""
   ]
  },
  {
   "cell_type": "markdown",
   "id": "6ef6fda5",
   "metadata": {},
   "source": [
    "####  Utiliser des f-strings\n",
    "\n",
    "Les **f-strings** (formatted string literals) sont une méthode introduite avec Python 3.6 pour formater des chaînes de caractères de manière rapide, lisible et intuitive. Elles permettent d'insérer directement des expressions ou des variables dans une chaîne en les entourant d'accolades `{}`.\n",
    "\n",
    "##### Pourquoi utiliser des f-strings ?\n",
    "\n",
    "- **Lisibilité** : Le code est plus clair et compact.\n",
    "- **Performance** : Plus rapide que la méthode `format()` ou la concaténation avec `+`.\n",
    "- **Flexibilité** : Permet d’insérer des expressions complexes directement dans une chaîne.\n",
    "\n",
    "##### Syntaxe de base\n",
    "\n",
    "Pour utiliser une f-string, placez un `f` ou un `F` avant une chaîne de caractères, puis insérez les variables ou expressions dans des accolades `{}`.\n",
    "\n",
    "```python\n",
    "variable = \"valeur\"\n",
    "print(f\"Le contenu de la variable est : {variable}\")\n",
    "```"
   ]
  },
  {
   "cell_type": "code",
   "execution_count": 45,
   "id": "c56b4b25",
   "metadata": {},
   "outputs": [
    {
     "data": {
      "text/plain": [
       "\" \\n    Créez deux variables, `nom` et `age`. Affichez un message en utilisant des f-strings pour insérer ces variables dans une phrase.\\n\\n    **Exemple attendu :**\\n    `Bonjour, je m'appelle Alice et j'ai 25 ans.`\\n\""
      ]
     },
     "execution_count": 45,
     "metadata": {},
     "output_type": "execute_result"
    }
   ],
   "source": [
    "\n",
    "\"\"\" \n",
    "    Créez deux variables, `nom` et `age`. Affichez un message en utilisant des f-strings pour insérer ces variables dans une phrase.\n",
    "\n",
    "    **Exemple attendu :**\n",
    "    `Bonjour, je m'appelle Alice et j'ai 25 ans.`\n",
    "\"\"\"\n"
   ]
  },
  {
   "cell_type": "code",
   "execution_count": 46,
   "id": "ee10216e",
   "metadata": {},
   "outputs": [
    {
     "data": {
      "text/plain": [
       "\" Afficher une variable réelle avec un format spécifique\\n\\n    Créez deux variables : `nom` (une chaîne de caractères) et `salaire` (un nombre réel). Affichez un message en utilisant des **f-strings** pour insérer ces variables dans une phrase. Le salaire doit être affiché avec **deux chiffres après la virgule**.\\n\\n    **Exemple attendu :**\\n    ```\\n    Bonjour, je m'appelle Alice et je gagne 2500.75 euros par mois.\\n\""
      ]
     },
     "execution_count": 46,
     "metadata": {},
     "output_type": "execute_result"
    }
   ],
   "source": [
    "\"\"\" Afficher une variable réelle avec un format spécifique\n",
    "\n",
    "    Créez deux variables : `nom` (une chaîne de caractères) et `salaire` (un nombre réel). Affichez un message en utilisant des **f-strings** pour insérer ces variables dans une phrase. Le salaire doit être affiché avec **deux chiffres après la virgule**.\n",
    "\n",
    "    **Exemple attendu :**\n",
    "    ```\n",
    "    Bonjour, je m'appelle Alice et je gagne 2500.75 euros par mois.\n",
    "\"\"\""
   ]
  },
  {
   "cell_type": "markdown",
   "id": "46552c0d",
   "metadata": {},
   "source": [
    "#### Caractères spéciaux\n",
    "\n",
    "\n",
    "Les **caractères spéciaux** en Python permettent de modifier la façon dont le texte est affiché ou interprété. Ils sont particulièrement utiles pour structurer l'affichage dans la console ou pour gérer des données contenant des caractères particuliers.\n",
    "\n",
    "##### Pourquoi utiliser des caractères spéciaux ?\n",
    "\n",
    "Les caractères spéciaux sont utilisés pour :\n",
    "\n",
    "1. **Structurer l'affichage** : Ajouter des sauts de ligne, des tabulations, ou aligner des données dans la console.\n",
    "2. **Manipuler des chaînes** : Inclure des caractères qui ne peuvent pas être tapés directement, comme des guillemets ou des barres obliques.\n",
    "3. **Éviter les erreurs** : Gérer des cas où certains caractères ont une signification particulière pour Python (comme les guillemets dans une chaîne de caractères).\n",
    "\n",
    "#### Principaux caractères spéciaux\n",
    "\n",
    "Voici une liste des caractères spéciaux les plus couramment utilisés en Python :\n",
    "\n",
    "| Caractère | Description                                | Exemple d'utilisation                        |\n",
    "|-----------|--------------------------------------------|----------------------------------------------|\n",
    "| `\\n`     | Saut de ligne                             | \"Bonjour\\nPython\" produit :\\nBonjour\\nPython |\n",
    "| `\\t`     | Tabulation                                | \"Nom:\\tAlice\" produit :\\nNom:    Alice      |\n",
    "| `\\\\`     | Barre oblique inversée                    | \"C:\\\\Utilisateurs\" produit : C:\\Utilisateurs |\n",
    "| `\\'`     | Apostrophe dans une chaîne entre guillemets simples | 'C\\'est un test' produit : C'est un test   |\n",
    "| `\\\"`    | Guillemets dans une chaîne entre guillemets doubles | \"Il a dit : \\\"Bonjour\\\"\" produit : Il a dit : \"Bonjour\" |\n"
   ]
  },
  {
   "cell_type": "code",
   "execution_count": 47,
   "id": "87e54196",
   "metadata": {},
   "outputs": [
    {
     "data": {
      "text/plain": [
       "'\\n    Utilisez les caractères spéciaux `\\n` et `\\t` pour afficher le texte suivant :\\n\\n    **Exemple attendu :**\\n    Nom:\\tAlice\\n    Age:\\t25\\n'"
      ]
     },
     "execution_count": 47,
     "metadata": {},
     "output_type": "execute_result"
    }
   ],
   "source": [
    "\"\"\"\n",
    "    Utilisez les caractères spéciaux `\\n` et `\\t` pour afficher le texte suivant :\n",
    "\n",
    "    **Exemple attendu :**\n",
    "    Nom:\tAlice\n",
    "    Age:\t25\n",
    "\"\"\"\n"
   ]
  },
  {
   "cell_type": "markdown",
   "id": "5dcba8f4",
   "metadata": {},
   "source": [
    "\n",
    "## Opérations Arithmétiques Simples:\n",
    "\n",
    "- **Opérations de Base**: Addition `+`, soustraction `-`, multiplication `*`, et division `/`.\n",
    "- **Opérations Avancées**: Division entière `//`, modulo `%`, et exponentiation `**`.\n",
    "- **Priorité**: Python suit l'ordre opérationnel mathématique standard.\n"
   ]
  },
  {
   "cell_type": "code",
   "execution_count": 48,
   "id": "6e4aca07",
   "metadata": {},
   "outputs": [],
   "source": [
    "#1. Créez deux variables nommées `a` et `b` contenant respectivement les valeurs `10` et `5`.\n",
    "#2. Affichez la valeur des deux variables à l'aide de la fonction `print()`."
   ]
  },
  {
   "cell_type": "code",
   "execution_count": 49,
   "id": "bfb9ca93",
   "metadata": {},
   "outputs": [],
   "source": [
    "# additionnez les deux nombres et affichez le résultat\n"
   ]
  },
  {
   "cell_type": "code",
   "execution_count": 50,
   "id": "9b8b9bc8",
   "metadata": {},
   "outputs": [],
   "source": [
    "# Multiplication des deux nombres et affichage du résultat"
   ]
  },
  {
   "cell_type": "code",
   "execution_count": 51,
   "id": "84a868ef",
   "metadata": {},
   "outputs": [],
   "source": [
    "# Division  des deux nombres et affichage du résultat\n"
   ]
  },
  {
   "cell_type": "code",
   "execution_count": 52,
   "id": "a6f08bed",
   "metadata": {},
   "outputs": [],
   "source": [
    "# Soustraction des deux nombres et affichage du résultat\n"
   ]
  },
  {
   "cell_type": "code",
   "execution_count": 53,
   "id": "faa5a0c8",
   "metadata": {},
   "outputs": [],
   "source": [
    "# Récupérer la partie entière d'une division et affichage du résultat\n"
   ]
  },
  {
   "cell_type": "code",
   "execution_count": 54,
   "id": "061ae3ae",
   "metadata": {},
   "outputs": [],
   "source": [
    "# Récupérer le reste de la division  des chiffres et affichage du résultat\n"
   ]
  },
  {
   "cell_type": "code",
   "execution_count": 55,
   "id": "0241bcae",
   "metadata": {},
   "outputs": [],
   "source": [
    "# Puissance des deux nombres et affichage du résultat\n"
   ]
  },
  {
   "cell_type": "markdown",
   "id": "78bbef05",
   "metadata": {},
   "source": [
    "\n",
    "\n",
    "## Opérations Logiques Simples:\n",
    "\n",
    "- **Opérateurs Logiques**: `and`, `or`, `not` pour les opérations booléennes.\n",
    "- **Comparaisons**: `==`, `!=`, `>`, `<`, `>=`, `<=` pour comparer des valeurs.\n",
    "\n"
   ]
  },
  {
   "cell_type": "markdown",
   "id": "51bf403a",
   "metadata": {},
   "source": [
    "## Opérations logiques"
   ]
  },
  {
   "cell_type": "markdown",
   "id": "d29471c8",
   "metadata": {},
   "source": [
    "Les opérateurs logiques permettent de combiner plusieurs conditions pour évaluer une expression. Ils renvoient des valeurs booléennes (`True` ou `False`) et sont souvent utilisés dans les structures conditionnelles comme les instructions `if`.\n",
    "\n",
    "| Opérateur | Description                         | Exemple                              | Résultat |\n",
    "|------------|-------------------------------------|--------------------------------------|-----------|\n",
    "| `and`, `&` | Retourne `True` si **toutes** les conditions sont `True` | `True and True`, `True & True`     | `True`    |\n",
    "| `or`, `|`  | Retourne `True` si **au moins une** condition est `True` | `True or False`, `True | False`    | `True`    |\n",
    "| `not`      | Inverse la valeur booléenne          | `not True`                         | `False`   |\n",
    "|            |                                     | `not False`                        | `True`    |\n"
   ]
  },
  {
   "cell_type": "code",
   "execution_count": 56,
   "id": "e0ebee4b",
   "metadata": {},
   "outputs": [],
   "source": [
    "# Opération et\n",
    "x=True\n",
    "y=False\n",
    "\n",
    "# Utilisation de and    "
   ]
  },
  {
   "cell_type": "code",
   "execution_count": 57,
   "id": "3e0c1dd7",
   "metadata": {},
   "outputs": [],
   "source": [
    "# Utilisation du symbole &\n"
   ]
  },
  {
   "cell_type": "code",
   "execution_count": 58,
   "id": "7f704453",
   "metadata": {},
   "outputs": [],
   "source": [
    "# Opérateur ou(utilisation de (or)\n"
   ]
  },
  {
   "cell_type": "code",
   "execution_count": 59,
   "id": "5a29b3b1",
   "metadata": {},
   "outputs": [],
   "source": [
    "# Utilisation du symbole |"
   ]
  },
  {
   "cell_type": "code",
   "execution_count": 60,
   "id": "0a546dbc",
   "metadata": {},
   "outputs": [],
   "source": [
    "# Operateur de négation (not)"
   ]
  },
  {
   "cell_type": "markdown",
   "id": "9a3c5d68",
   "metadata": {},
   "source": [
    "# Opérations de comparaison"
   ]
  },
  {
   "cell_type": "markdown",
   "id": "886ff7e2",
   "metadata": {},
   "source": [
    "# Tableau des Opérateurs de Comparaison en Python\n",
    "\n",
    "Les opérateurs de comparaison permettent de comparer des valeurs et renvoient un booléen (`True` ou `False`). Ils sont souvent utilisés dans les structures conditionnelles comme les instructions `if` ou les boucles.\n",
    "\n",
    "| Opérateur | Description                     | Exemple                           | Résultat |\n",
    "|------------|---------------------------------|-----------------------------------|-----------|\n",
    "| `==`       | Égal à                      | `5 == 5`                          | `True`    |\n",
    "| `!=`       | Différent de                  | `5 != 3`                          | `True`    |\n",
    "| `>`        | Plus grand que                 | `5 > 3`                           | `True`    |\n",
    "| `<`        | Plus petit que                 | `3 < 5`                           | `True`    |\n",
    "| `>=`       | Plus grand ou égal à         | `5 >= 5`                          | `True`    |\n",
    "| `<=`       | Plus petit ou égal à         | `3 <= 5`                          | `True`    |\n"
   ]
  },
  {
   "cell_type": "code",
   "execution_count": 61,
   "id": "ed2b1339",
   "metadata": {},
   "outputs": [],
   "source": [
    "# Affecter la valeur 24 à la variable age\n"
   ]
  },
  {
   "cell_type": "code",
   "execution_count": 62,
   "id": "b41f24ee",
   "metadata": {},
   "outputs": [],
   "source": [
    "# tester si l'age est égal à 24 ans\n"
   ]
  },
  {
   "cell_type": "code",
   "execution_count": 63,
   "id": "55c3cbcc",
   "metadata": {},
   "outputs": [],
   "source": [
    "# Tester si l'âge est inférieur à 24 ans\n"
   ]
  },
  {
   "cell_type": "code",
   "execution_count": 64,
   "id": "a896c163",
   "metadata": {},
   "outputs": [],
   "source": [
    "# Tester si l'âge est supérieur à 24 ans\n"
   ]
  },
  {
   "cell_type": "code",
   "execution_count": 65,
   "id": "f1ed61a7",
   "metadata": {},
   "outputs": [],
   "source": [
    "# tester si l'age est différent de 24 ans\n"
   ]
  },
  {
   "cell_type": "code",
   "execution_count": 66,
   "id": "5ef59999",
   "metadata": {},
   "outputs": [],
   "source": [
    "# tester inférieur ou égale à 24 ans\n"
   ]
  },
  {
   "cell_type": "code",
   "execution_count": 67,
   "id": "10159c0d",
   "metadata": {},
   "outputs": [],
   "source": [
    "# tester age supérieur ou égale à 24\n"
   ]
  }
 ],
 "metadata": {
  "kernelspec": {
   "display_name": "Python 3 (ipykernel)",
   "language": "python",
   "name": "python3"
  },
  "language_info": {
   "codemirror_mode": {
    "name": "ipython",
    "version": 3
   },
   "file_extension": ".py",
   "mimetype": "text/x-python",
   "name": "python",
   "nbconvert_exporter": "python",
   "pygments_lexer": "ipython3",
   "version": "3.12.6"
  }
 },
 "nbformat": 4,
 "nbformat_minor": 5
}
