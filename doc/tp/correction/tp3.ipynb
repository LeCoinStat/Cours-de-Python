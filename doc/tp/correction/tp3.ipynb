{
  "cells": [
    {
      "cell_type": "markdown",
      "metadata": {},
      "source": [
        "# Nombres premiers"
      ],
      "id": "4ca88d5f-5065-4fef-890c-da639f2e73fb"
    },
    {
      "cell_type": "code",
      "execution_count": 1,
      "metadata": {},
      "outputs": [],
      "source": [
        "def crible_eratosthene(n):\n",
        "    \"\"\"Génère une liste de booléens où True indique qu'un nombre est premier.\"\"\"\n",
        "\n",
        "    est_premier = [True] * (n + 1)\n",
        "    est_premier[0] = est_premier[1] = False  # 0 et 1 ne sont pas premiers\n",
        "\n",
        "    for i in range(2, int(n**0.5) + 1):\n",
        "        if est_premier[i]:\n",
        "            for multiple in range(i * i, n + 1, i):\n",
        "                est_premier[multiple] = False\n",
        "\n",
        "    return est_premier"
      ],
      "id": "f183c5a2"
    },
    {
      "cell_type": "code",
      "execution_count": 2,
      "metadata": {},
      "outputs": [],
      "source": [
        "l = crible_eratosthene(100000)\n",
        "\n",
        "cpt = 0\n",
        "for i in l[10000:]:\n",
        "    if i:\n",
        "        cpt += 1\n",
        "\n",
        "print(cpt)"
      ],
      "id": "76752c59"
    },
    {
      "cell_type": "code",
      "execution_count": 3,
      "metadata": {},
      "outputs": [],
      "source": [
        "l[8363]"
      ],
      "id": "6eb36f4c"
    },
    {
      "cell_type": "markdown",
      "metadata": {},
      "source": [
        "## 1 Fichier des communes"
      ],
      "id": "766ac8aa-92f5-49fa-b64b-76aa958113eb"
    },
    {
      "cell_type": "code",
      "execution_count": 4,
      "metadata": {},
      "outputs": [],
      "source": [
        "import pandas as pd"
      ],
      "id": "cf57e344"
    },
    {
      "cell_type": "code",
      "execution_count": 5,
      "metadata": {},
      "outputs": [],
      "source": [
        "import duckdb\n",
        "\n",
        "duckdb.sql(\"\"\"\n",
        "CREATE OR REPLACE VIEW commune AS\n",
        "FROM 'https://www.insee.fr/fr/statistiques/fichier/7766585/v_commune_2024.csv';\n",
        "\"\"\")"
      ],
      "id": "23a73df8"
    },
    {
      "cell_type": "code",
      "execution_count": 6,
      "metadata": {},
      "outputs": [],
      "source": [
        "duckdb.sql(\"\"\"\n",
        "SELECT *\n",
        "  FROM commune\n",
        "\"\"\").to_df()"
      ],
      "id": "cc67161f"
    },
    {
      "cell_type": "code",
      "execution_count": 7,
      "metadata": {},
      "outputs": [],
      "source": [
        "duckdb.sql(\"\"\"\n",
        "SELECT reg\n",
        "  FROM commune\n",
        " WHERE NCC = 'MAMOUDZOU';\n",
        "\"\"\").to_df()"
      ],
      "id": "e8d9c023"
    },
    {
      "cell_type": "code",
      "execution_count": 8,
      "metadata": {},
      "outputs": [],
      "source": [
        "duckdb.sql(\"\"\"\n",
        "SELECT COUNT(1)\n",
        "  FROM commune\n",
        " WHERE dep = '973';\n",
        "\"\"\").to_df()"
      ],
      "id": "8c4f26f8"
    },
    {
      "cell_type": "code",
      "execution_count": 9,
      "metadata": {},
      "outputs": [],
      "source": [
        "duckdb.sql(\"\"\"\n",
        "SELECT COUNT(1)\n",
        "  FROM commune\n",
        " WHERE dep IN ('02','60','80')\n",
        "   AND NCC LIKE '%L%L%L%L%';\n",
        "\"\"\").to_df()"
      ],
      "id": "c69fc72b"
    },
    {
      "cell_type": "code",
      "execution_count": 10,
      "metadata": {},
      "outputs": [],
      "source": [
        "duckdb.sql(\"\"\"\n",
        "SELECT dep,\n",
        "       COUNT(1) AS nb_communes,\n",
        "       RANK() OVER (ORDER BY COUNT(1) DESC) AS rang\n",
        "  FROM commune\n",
        " WHERE dep IS NOT NULL\n",
        " GROUP BY dep\n",
        "HAVING nb_communes >= 500\n",
        " ORDER BY 2 DESC;\n",
        "\"\"\").to_df()"
      ],
      "id": "052016d0"
    },
    {
      "cell_type": "code",
      "execution_count": 11,
      "metadata": {},
      "outputs": [],
      "source": [
        "duckdb.sql(\"\"\"\n",
        "SELECT dep\n",
        "  FROM commune\n",
        " WHERE LENGTH(ncc) = (SELECT max(LENGTH(ncc))\n",
        "                        FROM commune);\n",
        "\"\"\").to_df()"
      ],
      "id": "18291614"
    },
    {
      "cell_type": "markdown",
      "metadata": {},
      "source": [
        "## 2 Polars"
      ],
      "id": "aacebc0a-9b2b-4963-9f6f-baca656e90e2"
    },
    {
      "cell_type": "code",
      "execution_count": 12,
      "metadata": {},
      "outputs": [],
      "source": [
        "import os\n",
        "import polars as pl\n",
        "\n",
        "s3_endpoint = f'https://{os.environ[\"AWS_S3_ENDPOINT\"]}'\n",
        "s3_access_key = os.environ[\"AWS_ACCESS_KEY_ID\"]\n",
        "s3_secret_access_key = os.environ[\"AWS_SECRET_ACCESS_KEY\"]\n",
        "s3_session_token = os.environ[\"AWS_SESSION_TOKEN\"]\n",
        "s3_region = os.environ[\"AWS_DEFAULT_REGION\"]\n",
        "\n",
        "s3_username = os.environ[\"VAULT_TOP_DIR\"] # un peu bancal pour avoir le username"
      ],
      "id": "bc2fff8c"
    },
    {
      "cell_type": "code",
      "execution_count": 13,
      "metadata": {},
      "outputs": [],
      "source": [
        "s3_file_path = f\"s3://{s3_username}/ENSAI/SQL/tp3-longueur-fil.parquet\"\n",
        "\n",
        "storage_options = {\n",
        "    \"aws_endpoint\":  s3_endpoint,\n",
        "    \"aws_access_key_id\": s3_access_key,\n",
        "    \"aws_secret_access_key\": s3_secret_access_key,\n",
        "    \"aws_token\": s3_session_token,\n",
        "    \"aws_region\": s3_region\n",
        "  }\n",
        "\n",
        "file = pl.scan_parquet(source=s3_file_path, \n",
        "                     storage_options=storage_options)"
      ],
      "id": "a2ad330b"
    },
    {
      "cell_type": "code",
      "execution_count": 14,
      "metadata": {},
      "outputs": [],
      "source": [
        "df = file.collect()"
      ],
      "id": "b6024c74"
    },
    {
      "cell_type": "code",
      "execution_count": 15,
      "metadata": {},
      "outputs": [],
      "source": [
        "print(df)"
      ],
      "id": "637be5a8"
    },
    {
      "cell_type": "code",
      "execution_count": 16,
      "metadata": {},
      "outputs": [],
      "source": [
        "df.filter(pl.col(\"vetement\") == \"gilet\")"
      ],
      "id": "8662061d"
    },
    {
      "cell_type": "markdown",
      "metadata": {},
      "source": [
        "## 3 Diffusion"
      ],
      "id": "44fb42c5-1ff8-47a8-9778-6d25f3bf8672"
    },
    {
      "cell_type": "code",
      "execution_count": 17,
      "metadata": {},
      "outputs": [],
      "source": [
        "fichier_prenoms = pl.scan_parquet(source=\"s3://ldeneuville-ensai/diffusion/ENSAI/SQL-TP/prenoms-nat2022.parquet\", \n",
        "                               storage_options=storage_options)"
      ],
      "id": "50114909"
    },
    {
      "cell_type": "code",
      "execution_count": 18,
      "metadata": {},
      "outputs": [],
      "source": [
        "top10f2021 = fichier_prenoms\\\n",
        "    .filter((pl.col(\"sexe\") == 2) & \n",
        "            (pl.col(\"annais\") == \"2021\") & \n",
        "            (pl.col(\"preusuel\") != \"_PRENOMS_RARES\"))\\\n",
        "    .group_by(\"preusuel\")\\\n",
        "    .agg(pl.col(\"nombre\").sum().alias(\"nombre_total\"))\\\n",
        "    .sort(\"nombre_total\", descending=True)\\\n",
        "    .limit(10)\\\n",
        "    .collect()"
      ],
      "id": "55946794"
    },
    {
      "cell_type": "code",
      "execution_count": 19,
      "metadata": {},
      "outputs": [],
      "source": [
        "top10f2021"
      ],
      "id": "c88eec9c"
    },
    {
      "cell_type": "code",
      "execution_count": 20,
      "metadata": {},
      "outputs": [],
      "source": [
        "top10f2021_sql = fichier_prenoms\\\n",
        "    .sql(\"\"\"\n",
        "      SELECT preusuel, \n",
        "             SUM(nombre) AS nombre_total\n",
        "        FROM self\n",
        "       WHERE preusuel <> '_PRENOMS_RARES'\n",
        "         AND annais = '2021'\n",
        "         AND sexe = 2\n",
        "       GROUP BY preusuel\n",
        "       ORDER BY nombre_total DESC\n",
        "       LIMIT 10\n",
        "    \"\"\")\\\n",
        "    .collect()\n",
        "\n",
        "top10f2021_sql"
      ],
      "id": "ea00d215"
    },
    {
      "cell_type": "code",
      "execution_count": 21,
      "metadata": {},
      "outputs": [],
      "source": [
        "prenom = \"Katia\"\n",
        "annee_debut, annee_fin = 1960, 1980\n",
        "\n",
        "df_prenom_annee = fichier_prenoms\\\n",
        "    .filter((pl.col(\"preusuel\") == prenom.upper()) & \n",
        "            (pl.col(\"annais\").str.to_integer(strict=False).is_not_null()) &  # Convertir et exclure les nulls\n",
        "            (pl.col(\"annais\").str.to_integer(strict=False) >= annee_debut) & \n",
        "            (pl.col(\"annais\").str.to_integer(strict=False) <= annee_fin))\\\n",
        "    .group_by(\"annais\")\\\n",
        "    .agg(pl.col(\"nombre\").sum().alias(\"nombre_total\"))\\\n",
        "    .sort(\"annais\")\\\n",
        "    .collect()\n",
        "\n",
        "print(df_prenom_annee)"
      ],
      "id": "8923e9f5"
    },
    {
      "cell_type": "code",
      "execution_count": 22,
      "metadata": {},
      "outputs": [],
      "source": [
        "fichier_prenoms.sql(f\"\"\"\n",
        "SELECT annais, \n",
        "       SUM(nombre) AS nombre_total\n",
        "  FROM self\n",
        " WHERE preusuel = 'KATIA'\n",
        "   AND annais != 'XXXX' \n",
        "   AND annais BETWEEN '{annee_debut}' AND '{annee_fin}'\n",
        " GROUP BY annais\n",
        " ORDER BY annais;\n",
        " \"\"\").collect()"
      ],
      "id": "b599cff6"
    },
    {
      "cell_type": "code",
      "execution_count": 23,
      "metadata": {},
      "outputs": [],
      "source": [
        "import matplotlib.pyplot as plt\n",
        "import seaborn as sns\n",
        "\n",
        "# Set seaborn style for a cleaner, more appealing look\n",
        "sns.set_theme(style=\"whitegrid\")\n",
        "\n",
        "# Create the plot\n",
        "fig, ax = plt.subplots(figsize=(10, 6))\n",
        "\n",
        "# Data\n",
        "years = df_prenom_annee[\"annais\"].to_list()         # Extracts years as a list\n",
        "counts = df_prenom_annee[\"nombre_total\"].to_list()  # Extracts counts as a list\n",
        "\n",
        "# Bar plot with custom colors and transparency for better visuals\n",
        "ax.bar(years, \n",
        "       counts, \n",
        "       color=\"#4C72B0\", \n",
        "       edgecolor=\"black\", \n",
        "       alpha=0.8)\n",
        "\n",
        "# Set labels and title with padding for readability\n",
        "ax.set_xlabel(\"Année\", fontsize=12, labelpad=10)\n",
        "ax.set_ylabel(\"Nombre d'occurences\", fontsize=12, labelpad=10)\n",
        "ax.set_title(f\"Occurrences du prénom {prenom} par année ({annee_debut}-{annee_fin})\", fontsize=14, pad=15)\n",
        "\n",
        "# Rotate x-axis labels, improve spacing, and format grid\n",
        "ax.tick_params(axis='x', rotation=45)\n",
        "plt.tight_layout()  # Adjust layout for tight fit\n",
        "\n",
        "# Display the plot\n",
        "plt.show()"
      ],
      "id": "5b66980d"
    },
    {
      "cell_type": "markdown",
      "metadata": {},
      "source": [
        "## 4 Le prénom"
      ],
      "id": "9711e2d7-1c62-4e0e-b3b8-ba8b6d3dde46"
    },
    {
      "cell_type": "code",
      "execution_count": 24,
      "metadata": {},
      "outputs": [],
      "source": [
        "prenoms_feminins = fichier_prenoms.sql(f\"\"\"\n",
        "SELECT preusuel, \n",
        "       SUM(nombre) AS nombre_total\n",
        "  FROM self\n",
        " WHERE preusuel != '_PRENOMS_RARES'\n",
        "   AND annais != 'XXXX' \n",
        "   AND sexe = 2\n",
        "   AND annais BETWEEN '1970' AND '2000'\n",
        " GROUP BY preusuel\n",
        " ORDER BY nombre_total DESC,\n",
        "          preusuel DESC;\n",
        " \"\"\").collect()"
      ],
      "id": "d1a0a270"
    },
    {
      "cell_type": "code",
      "execution_count": 25,
      "metadata": {},
      "outputs": [],
      "source": [
        "(8363 - 3) / 5"
      ],
      "id": "d6916a86"
    },
    {
      "cell_type": "code",
      "execution_count": 26,
      "metadata": {},
      "outputs": [],
      "source": [
        "prenoms_feminins.row(1672)"
      ],
      "id": "e6c46f23"
    },
    {
      "cell_type": "code",
      "execution_count": 27,
      "metadata": {},
      "outputs": [],
      "source": [
        "prenoms_feminins.with_row_index()[1670:1680]"
      ],
      "id": "d92779d8"
    },
    {
      "cell_type": "markdown",
      "metadata": {},
      "source": [
        "## 5 Export"
      ],
      "id": "b1376ea2-11c0-4cb0-9160-e449cf516281"
    },
    {
      "cell_type": "code",
      "execution_count": 28,
      "metadata": {},
      "outputs": [],
      "source": [
        "import s3fs\n",
        "\n",
        "fs = s3fs.S3FileSystem(\n",
        "    client_kwargs={'endpoint_url': 'https://'+'minio-simple.lab.groupe-genes.fr'},\n",
        "    key = os.environ[\"AWS_ACCESS_KEY_ID\"], \n",
        "    secret = os.environ[\"AWS_SECRET_ACCESS_KEY\"], \n",
        "    token = os.environ[\"AWS_SESSION_TOKEN\"])\n",
        "\n",
        "destination = f\"s3://{s3_username}/ENSAI/SQL/output.csv\"\n",
        "\n",
        "with fs.open(destination, mode='wb') as f:\n",
        "    top10f2021.write_csv(f)"
      ],
      "id": "60adaba6"
    }
  ],
  "nbformat": 4,
  "nbformat_minor": 5,
  "metadata": {
    "kernelspec": {
      "name": "python3",
      "display_name": "Python 3 (ipykernel)",
      "language": "python",
      "path": "/opt/hostedtoolcache/Python/3.10.15/x64/share/jupyter/kernels/python3"
    },
    "language_info": {
      "name": "python",
      "codemirror_mode": {
        "name": "ipython",
        "version": "3"
      },
      "file_extension": ".py",
      "mimetype": "text/x-python",
      "nbconvert_exporter": "python",
      "pygments_lexer": "ipython3",
      "version": "3.10.15"
    }
  }
}